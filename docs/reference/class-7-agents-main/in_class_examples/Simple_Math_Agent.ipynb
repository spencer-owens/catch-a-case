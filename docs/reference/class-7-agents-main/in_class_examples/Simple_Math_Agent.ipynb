{
 "cells": [
  {
   "cell_type": "markdown",
   "metadata": {
    "id": "6MigP-QWwkD1"
   },
   "source": [
    "# **AI For Developer Productivity Office Hours**"
   ]
  },
  {
   "cell_type": "markdown",
   "metadata": {
    "id": "O43PDkxOhCRT"
   },
   "source": [
    "**LangChain Agent Overview:**\n",
    "  - LangChain agents are designed to mimic intelligent entities that perceive their environment, make decisions to achieve specific goals, and learn over time. These agents primarily use Large Language Models (LLMs) to reason and determine the best approaches to fulfill user requests.\n",
    "  \n",
    "**Functionality and Tools:**\n",
    "  - To interact with and operate within their environment, LangChain agents use a set of tools called \"Tools.\" These tools are essentially methods or classes that allow the agent to perform actions like querying a database, updating a calendar event, or interacting with a stock market index through an API.\n",
    "\n",
    "**Toolkits:**\n",
    "  - A Toolkit in LangChain is a collection of various Tools that an agent can access to execute tasks. These toolkits are structured as arrays containing the tools available for the agent's use, facilitating the agent's interaction with its environment and task execution."
   ]
  },
  {
   "cell_type": "markdown",
   "metadata": {
    "id": "8PrleDpJiCVF"
   },
   "source": [
    "# Today's lesson aims to:\n",
    "\n",
    "1. Develop a basic agent that can perform mathematical calculations faster than a typical Large Language Model (LLM).\n",
    "2. Demonstrate how to create and implement tools that enhance the agent's capabilities.\n",
    "3. Illustrate the use of a toolkit to effectively employ these tools in practical scenarios."
   ]
  },
  {
   "cell_type": "markdown",
   "metadata": {
    "id": "JSbob5xyiPSy"
   },
   "source": [
    "Import packages"
   ]
  },
  {
   "cell_type": "code",
   "execution_count": null,
   "metadata": {
    "colab": {
     "base_uri": "https://localhost:8080/"
    },
    "id": "tKoHvBP1mEIx",
    "outputId": "d58acc5b-5f0f-4ab0-eb1e-3cc5bfc271d8"
   },
   "outputs": [],
   "source": [
    "# %pip install langchain"
   ]
  },
  {
   "cell_type": "code",
   "execution_count": null,
   "metadata": {
    "colab": {
     "base_uri": "https://localhost:8080/"
    },
    "id": "p3jhWvCsmr4j",
    "outputId": "5958db0c-d995-4781-a2ee-ff8a2c0b6379"
   },
   "outputs": [],
   "source": [
    "# %pip install langchain_openai"
   ]
  },
  {
   "cell_type": "code",
   "execution_count": null,
   "metadata": {
    "colab": {
     "base_uri": "https://localhost:8080/"
    },
    "id": "cmyTRtOLpHE4",
    "outputId": "fdc376a7-abec-4ac7-b255-eb435a06eeb3"
   },
   "outputs": [],
   "source": [
    "# %pip install matplotlib numpy"
   ]
  },
  {
   "cell_type": "code",
   "execution_count": null,
   "metadata": {
    "id": "8wWeAq53iG1S"
   },
   "outputs": [],
   "source": [
    "import os\n",
    "\n",
    "from langchain.agents import AgentExecutor, create_openai_tools_agent\n",
    "from langchain_openai import ChatOpenAI\n",
    "\n",
    "from langchain.tools import BaseTool, StructuredTool, tool\n",
    "from langchain_core.prompts import ChatPromptTemplate, MessagesPlaceholder"
   ]
  },
  {
   "cell_type": "markdown",
   "metadata": {
    "id": "KLpffHeHwvtl"
   },
   "source": [
    "Imports for tooling"
   ]
  },
  {
   "cell_type": "code",
   "execution_count": null,
   "metadata": {
    "id": "HeUdEdAcpF13"
   },
   "outputs": [],
   "source": [
    "import matplotlib.pyplot as plt\n",
    "import requests\n",
    "import numpy as np"
   ]
  },
  {
   "cell_type": "markdown",
   "metadata": {
    "id": "P25uLz41wzsH"
   },
   "source": [
    "Create tools"
   ]
  },
  {
   "cell_type": "code",
   "execution_count": null,
   "metadata": {
    "id": "vvJGwzN9idS0"
   },
   "outputs": [],
   "source": [
    "@tool\n",
    "def add(a: int, b: int) -> int:\n",
    "    \"\"\"Add two numbers.\"\"\"\n",
    "    return a + b\n",
    "\n",
    "@tool\n",
    "def multiply(a: int, b: int) -> int:\n",
    "    \"\"\"Multiply two numbers.\"\"\"\n",
    "    return a * b\n",
    "\n",
    "@tool\n",
    "def subtract(a: int, b: int) -> int:\n",
    "  \"\"\"Subtract b from a\"\"\"\n",
    "  return a - b\n",
    "\n",
    "@tool\n",
    "def square(a) -> int:\n",
    "    \"\"\"Calculates the square of a number.\"\"\"\n",
    "    a = int(a)\n",
    "    return a * a\n",
    "\n",
    "@tool\n",
    "def findAreaOfTrapazoid(top: int, bottom: int, height: int) -> int:\n",
    "  \"\"\"Calculate the area of a Trapazoid given the top, bottom and height\"\"\"\n",
    "  return ((top + bottom) / 2) * height\n",
    "\n",
    "\n",
    "@tool\n",
    "def findAreaOfCircle(r: int) -> float:\n",
    "  \"\"\"Find the area of a circle using it's radius\"\"\"\n",
    "  a = 3.14 * r ** 2\n",
    "  return a\n",
    "\n",
    "@tool\n",
    "def display_circle(radius: int):\n",
    "    \"\"\"\n",
    "    Displays a circle with the given radius using matplotlib.\n",
    "\n",
    "    Args:\n",
    "        radius (int): The radius of the circle to display.\n",
    "    \"\"\"\n",
    "    # Create a figure and axis\n",
    "    fig, ax = plt.subplots()\n",
    "\n",
    "    # Create a circle using the given radius\n",
    "    circle = plt.Circle((0, 0), radius, fill=False, color='r', linewidth=2)\n",
    "\n",
    "    # Add the circle to the axis\n",
    "    ax.add_artist(circle)\n",
    "\n",
    "    # Set the aspect ratio to be equal\n",
    "    ax.set_aspect('equal')\n",
    "\n",
    "    # Set the axis limits to show the entire circle\n",
    "    ax.set_xlim((-radius - 1, radius + 1))\n",
    "    ax.set_ylim((-radius - 1, radius + 1))\n",
    "\n",
    "    # Remove the axis ticks and labels\n",
    "    ax.set_xticks([])\n",
    "    ax.set_yticks([])\n",
    "\n",
    "    # Display the circle\n",
    "    plt.show()"
   ]
  },
  {
   "cell_type": "markdown",
   "metadata": {
    "id": "2HzZp_Kyw2_3"
   },
   "source": [
    "Create prompt"
   ]
  },
  {
   "cell_type": "code",
   "execution_count": null,
   "metadata": {
    "colab": {
     "background_save": true
    },
    "id": "8Mj1zY_1ihBx"
   },
   "outputs": [],
   "source": [
    "prompt = ChatPromptTemplate.from_messages(\n",
    "    [\n",
    "        (\"system\", \"\"\"You are a mathematical assistant. Use your tools to answer questions.\n",
    "         If you do not have a tool to answer the question, say so.\n",
    "\n",
    "        Return only the answers. e.g\n",
    "        Human: What is 1 + 1?\n",
    "        AI: 2\n",
    "        \"\"\"),\n",
    "        MessagesPlaceholder(\"chat_history\", optional=True),\n",
    "        (\"human\", \"{input}\"),\n",
    "        MessagesPlaceholder(\"agent_scratchpad\"),\n",
    "    ]\n",
    ")"
   ]
  },
  {
   "cell_type": "markdown",
   "metadata": {
    "id": "2xyGLf4Tw40k"
   },
   "source": [
    "Creat agent and execute"
   ]
  },
  {
   "cell_type": "code",
   "execution_count": null,
   "metadata": {
    "id": "6FH9_GhSijkp"
   },
   "outputs": [],
   "source": [
    "# Choose the LLM that will drive the agent\n",
    "llm = ChatOpenAI(model=\"gpt-4o-mini\", temperature=0)\n",
    "\n",
    "# Setup the toolkit\n",
    "toolkit = [add, subtract, multiply, square, display_circle, findAreaOfCircle, findAreaOfTrapazoid]\n",
    "\n",
    "# Construct the OpenAI Tools agent\n",
    "agent = create_openai_tools_agent(llm, toolkit, prompt)\n",
    "\n",
    "# Create an agent executor by passing in the agent and toolkit\n",
    "agent_executor = AgentExecutor(agent=agent, tools=toolkit, verbose=True)"
   ]
  },
  {
   "cell_type": "markdown",
   "metadata": {
    "id": "galr7o03w7e7"
   },
   "source": [
    "Give prompt"
   ]
  },
  {
   "cell_type": "code",
   "execution_count": null,
   "metadata": {
    "colab": {
     "base_uri": "https://localhost:8080/"
    },
    "id": "rBdn03bXimJS",
    "outputId": "8a64c3e1-e273-4d4b-fb13-fc9bd150e672"
   },
   "outputs": [],
   "source": [
    "result = agent_executor.invoke({\"input\": \"what is the area of a trapazoid given the height of 10, a top of 5 and a bottom of 12.\"})\n",
    "print(result['output'])"
   ]
  }
 ],
 "metadata": {
  "colab": {
   "provenance": []
  },
  "kernelspec": {
   "display_name": "Python 3 (ipykernel)",
   "language": "python",
   "name": "python3"
  },
  "language_info": {
   "codemirror_mode": {
    "name": "ipython",
    "version": 3
   },
   "file_extension": ".py",
   "mimetype": "text/x-python",
   "name": "python",
   "nbconvert_exporter": "python",
   "pygments_lexer": "ipython3",
   "version": "3.11.10"
  }
 },
 "nbformat": 4,
 "nbformat_minor": 4
}
